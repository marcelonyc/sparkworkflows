{
 "cells": [
  {
   "cell_type": "markdown",
   "metadata": {},
   "source": [
    "# Nuclio - Generator function"
   ]
  },
  {
   "cell_type": "markdown",
   "metadata": {},
   "source": [
    "## Environment"
   ]
  },
  {
   "cell_type": "code",
   "execution_count": 22,
   "metadata": {},
   "outputs": [],
   "source": [
    "# nuclio: ignore\n",
    "import nuclio"
   ]
  },
  {
   "cell_type": "code",
   "execution_count": 23,
   "metadata": {},
   "outputs": [],
   "source": [
    "#%run set_env.ipynb"
   ]
  },
  {
   "cell_type": "markdown",
   "metadata": {},
   "source": [
    "### Configurations"
   ]
  },
  {
   "cell_type": "code",
   "execution_count": 24,
   "metadata": {},
   "outputs": [],
   "source": [
    "import os\n",
    "import datetime"
   ]
  },
  {
   "cell_type": "code",
   "execution_count": 42,
   "metadata": {},
   "outputs": [],
   "source": [
    "### NOTE\n",
    "## Platform version dependent\n",
    "base_image='iguazio/jupyter-all:2.8_b119_20200417000155'"
   ]
  },
  {
   "cell_type": "code",
   "execution_count": 43,
   "metadata": {},
   "outputs": [],
   "source": [
    "# nuclio: ignore\n",
    "spec = nuclio.ConfigSpec(config={\"spec.triggers.inference.kind\":\"cron\",\n",
    "                                \"spec.triggers.inference.attributes.interval\" :\"1h\",\n",
    "                                \"spec.readinessTimeoutSeconds\" : 60,\n",
    "                                \"spec.minReplicas\" : 1,\n",
    "                                \"spec.build.baseImage\" : base_image },\n",
    "                         env={'PYTHON_SCRIPT' : '/kv-to-parquet.py',\n",
    "                            'V3IO_SCRIPT_PATH' : os.path.join('/v3io','users',os.getenv('V3IO_USERNAME'),'sparkworkflows'),\n",
    "                            'SPARK_JOB_NAME' : 'my-spark-job' ,\n",
    "                            'SPARK_SPEC_MEM' :'2g',\n",
    "                            'SPARK_SPEC_CPU' : 1,\n",
    "                            'SPARK_SPEC_REPLICAS' : 1,\n",
    "                              'V3IO_HOME' : os.getenv('V3IO_HOME'),\n",
    "                              'V3IO_ACCESS_KEY' : os.getenv('V3IO_ACCESS_KEY'),\n",
    "                              'V3IO_USERNAME' : os.getenv('V3IO_USERNAME'),\n",
    "                              'V3IO_HOME_URL' : os.getenv('V3IO_HOME_URL'),\n",
    "                              \n",
    "                         },\n",
    "                         cmd=['pip install mlrun v3io'],\n",
    "                        ).with_v3io().add_volume('/User',os.path.join('/users',os.getenv('V3IO_USERNAME')),kind='v3io',name='v3io')"
   ]
  },
  {
   "cell_type": "markdown",
   "metadata": {},
   "source": [
    "### Kubeflow pipeline."
   ]
  },
  {
   "cell_type": "code",
   "execution_count": 26,
   "metadata": {},
   "outputs": [],
   "source": [
    "#%run kubeflow-pipeline.ipynb"
   ]
  },
  {
   "cell_type": "markdown",
   "metadata": {},
   "source": [
    "## Test"
   ]
  },
  {
   "cell_type": "code",
   "execution_count": 27,
   "metadata": {},
   "outputs": [
    {
     "data": {
      "text/html": [
       "Experiment link <a href=\"https://dashboard.default-tenant.app.mdl0418.iguazio-cd1.com/pipelines/#/experiments/details/42fdfb07-84de-4610-b28e-106db8110917\" target=\"_blank\" >here</a>"
      ],
      "text/plain": [
       "<IPython.core.display.HTML object>"
      ]
     },
     "metadata": {},
     "output_type": "display_data"
    },
    {
     "data": {
      "text/html": [
       "Run link <a href=\"https://dashboard.default-tenant.app.mdl0418.iguazio-cd1.com/pipelines/#/runs/details/dafc699f-1b5e-41c5-97f6-525c93b1b801\" target=\"_blank\" >here</a>"
      ],
      "text/plain": [
       "<IPython.core.display.HTML object>"
      ]
     },
     "metadata": {},
     "output_type": "display_data"
    },
    {
     "name": "stdout",
     "output_type": "stream",
     "text": [
      "CPU times: user 39.9 ms, sys: 237 µs, total: 40.2 ms\n",
      "Wall time: 60.1 ms\n"
     ]
    }
   ],
   "source": [
    "%%time\n",
    "# nuclio: ignore\n",
    "event = nuclio.Event(body='')\n",
    "output = handler(context, event)\n",
    "output"
   ]
  },
  {
   "cell_type": "code",
   "execution_count": null,
   "metadata": {},
   "outputs": [],
   "source": []
  },
  {
   "cell_type": "markdown",
   "metadata": {},
   "source": [
    "# Deploy"
   ]
  },
  {
   "cell_type": "code",
   "execution_count": 45,
   "metadata": {},
   "outputs": [
    {
     "name": "stdout",
     "output_type": "stream",
     "text": [
      "[nuclio] 2020-04-20 18:27:47,635 (info) Build complete\n",
      "[nuclio] 2020-04-20 18:27:56,835 (info) Function deploy complete\n",
      "[nuclio] 2020-04-20 18:27:56,842 done updating pipeline, function address: 3.12.248.124:30111\n"
     ]
    }
   ],
   "source": [
    "# nuclio: ignore\n",
    "#%nuclio deploy -p netops -n generator -c\n",
    "addr = nuclio.deploy_file(source='kubeflow-pipeline.ipynb',name='pipeline',project='sparkk',spec=spec, tag='v1.1')\n"
   ]
  },
  {
   "cell_type": "code",
   "execution_count": null,
   "metadata": {},
   "outputs": [],
   "source": []
  }
 ],
 "metadata": {
  "kernelspec": {
   "display_name": "Python 3",
   "language": "python",
   "name": "python3"
  },
  "language_info": {
   "codemirror_mode": {
    "name": "ipython",
    "version": 3
   },
   "file_extension": ".py",
   "mimetype": "text/x-python",
   "name": "python",
   "nbconvert_exporter": "python",
   "pygments_lexer": "ipython3",
   "version": "3.6.8"
  }
 },
 "nbformat": 4,
 "nbformat_minor": 4
}
