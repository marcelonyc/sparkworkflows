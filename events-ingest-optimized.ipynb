{
 "cells": [
  {
   "cell_type": "code",
   "execution_count": 1,
   "metadata": {},
   "outputs": [],
   "source": [
    "# nuclio: ignore\n",
    "import nuclio"
   ]
  },
  {
   "cell_type": "code",
   "execution_count": 2,
   "metadata": {
    "scrolled": true
   },
   "outputs": [
    {
     "name": "stdout",
     "output_type": "stream",
     "text": [
      "Collecting v3io\n",
      "  Downloading https://files.pythonhosted.org/packages/68/be/da15ed9db2e97044ae98dd3de32cd2eec555bd8dafa0b6339ecc2e8b0eb7/v3io-0.3.2-py3-none-any.whl\n",
      "Collecting bleach==3.1.4 (from v3io)\n",
      "\u001b[?25l  Downloading https://files.pythonhosted.org/packages/c7/bc/9c2bbd8bff5f393e3373687109117a061db4c8ccdf6b5c70b1f8834bd67a/bleach-3.1.4-py2.py3-none-any.whl (151kB)\n",
      "\u001b[K    100% |████████████████████████████████| 153kB 42.8MB/s ta 0:00:01\n",
      "\u001b[?25hCollecting pygments==2.6.1 (from v3io)\n",
      "\u001b[?25l  Downloading https://files.pythonhosted.org/packages/2d/68/106af3ae51daf807e9cdcba6a90e518954eb8b70341cee52995540a53ead/Pygments-2.6.1-py3-none-any.whl (914kB)\n",
      "\u001b[K    100% |████████████████████████████████| 921kB 20.0MB/s ta 0:00:01\n",
      "\u001b[?25hCollecting readme-renderer==25.0 (from v3io)\n",
      "  Downloading https://files.pythonhosted.org/packages/ec/1c/1250524c071ee847732b2ba884b88db568059eea9b997f9f7b7ceb78f691/readme_renderer-25.0-py2.py3-none-any.whl\n",
      "Requirement already satisfied: future==0.18.2 in /conda/lib/python3.6/site-packages (from v3io) (0.18.2)\n",
      "Collecting requests==2.23.0 (from v3io)\n",
      "\u001b[?25l  Downloading https://files.pythonhosted.org/packages/1a/70/1935c770cb3be6e3a8b78ced23d7e0f3b187f5cbfab4749523ed65d7c9b1/requests-2.23.0-py2.py3-none-any.whl (58kB)\n",
      "\u001b[K    100% |████████████████████████████████| 61kB 21.7MB/s ta 0:00:01\n",
      "\u001b[?25hCollecting ujson==2.0.3 (from v3io)\n",
      "\u001b[?25l  Downloading https://files.pythonhosted.org/packages/a8/e4/a79c57e22d6d09bbeb5e8febb8cfa0fe10ede69eed9c3458d3ec99014e20/ujson-2.0.3-cp36-cp36m-manylinux1_x86_64.whl (174kB)\n",
      "\u001b[K    100% |████████████████████████████████| 184kB 47.5MB/s ta 0:00:01\n",
      "\u001b[?25hCollecting keyring==21.2.0 (from v3io)\n",
      "  Downloading https://files.pythonhosted.org/packages/04/21/42d92822959a37ccc390742c2706c8b06cc6a29c10a5ef2e8d22cf0e2e33/keyring-21.2.0-py3-none-any.whl\n",
      "Collecting setuptools==46.1.3 (from v3io)\n",
      "\u001b[?25l  Downloading https://files.pythonhosted.org/packages/a0/df/635cdb901ee4a8a42ec68e480c49f85f4c59e8816effbf57d9e6ee8b3588/setuptools-46.1.3-py3-none-any.whl (582kB)\n",
      "\u001b[K    100% |████████████████████████████████| 583kB 34.0MB/s ta 0:00:01\n",
      "\u001b[?25hCollecting urllib3==1.25.8 (from v3io)\n",
      "\u001b[?25l  Downloading https://files.pythonhosted.org/packages/e8/74/6e4f91745020f967d09332bb2b8b9b10090957334692eb88ea4afe91b77f/urllib3-1.25.8-py2.py3-none-any.whl (125kB)\n",
      "\u001b[K    100% |████████████████████████████████| 133kB 34.0MB/s ta 0:00:01\n",
      "\u001b[?25hCollecting idna==2.9 (from v3io)\n",
      "\u001b[?25l  Downloading https://files.pythonhosted.org/packages/89/e3/afebe61c546d18fb1709a61bee788254b40e736cff7271c7de5de2dc4128/idna-2.9-py2.py3-none-any.whl (58kB)\n",
      "\u001b[K    100% |████████████████████████████████| 61kB 34.8MB/s ta 0:00:01\n",
      "\u001b[?25hCollecting zipp==3.1.0 (from v3io)\n",
      "  Downloading https://files.pythonhosted.org/packages/b2/34/bfcb43cc0ba81f527bc4f40ef41ba2ff4080e047acb0586b56b3d017ace4/zipp-3.1.0-py3-none-any.whl\n",
      "Requirement already satisfied: webencodings in /conda/lib/python3.6/site-packages (from bleach==3.1.4->v3io) (0.5.1)\n",
      "Requirement already satisfied: six>=1.9.0 in /conda/lib/python3.6/site-packages (from bleach==3.1.4->v3io) (1.14.0)\n",
      "Requirement already satisfied: docutils>=0.13.1 in /conda/lib/python3.6/site-packages (from readme-renderer==25.0->v3io) (0.15.2)\n",
      "Requirement already satisfied: certifi>=2017.4.17 in /conda/lib/python3.6/site-packages (from requests==2.23.0->v3io) (2019.11.28)\n",
      "Requirement already satisfied: chardet<4,>=3.0.2 in /conda/lib/python3.6/site-packages (from requests==2.23.0->v3io) (3.0.4)\n",
      "Requirement already satisfied: importlib-metadata; python_version < \"3.8\" in /conda/lib/python3.6/site-packages (from keyring==21.2.0->v3io) (1.4.0)\n",
      "Collecting SecretStorage>=3; sys_platform == \"linux\" (from keyring==21.2.0->v3io)\n",
      "  Downloading https://files.pythonhosted.org/packages/c3/50/8a02cad020e949e6d7105f5f4530d41e3febcaa5b73f8f2148aacb3aeba5/SecretStorage-3.1.2-py3-none-any.whl\n",
      "Collecting jeepney>=0.4.2; sys_platform == \"linux\" (from keyring==21.2.0->v3io)\n",
      "  Downloading https://files.pythonhosted.org/packages/79/31/2e8d42727595faf224c6dbb748c32b192e212f25495fe841fb7ce8e168b8/jeepney-0.4.3-py3-none-any.whl\n",
      "Requirement already satisfied: cryptography in /conda/lib/python3.6/site-packages (from SecretStorage>=3; sys_platform == \"linux\"->keyring==21.2.0->v3io) (2.8)\n",
      "Requirement already satisfied: cffi!=1.11.3,>=1.8 in /conda/lib/python3.6/site-packages (from cryptography->SecretStorage>=3; sys_platform == \"linux\"->keyring==21.2.0->v3io) (1.13.2)\n",
      "Requirement already satisfied: pycparser in /conda/lib/python3.6/site-packages (from cffi!=1.11.3,>=1.8->cryptography->SecretStorage>=3; sys_platform == \"linux\"->keyring==21.2.0->v3io) (2.19)\n",
      "\u001b[31mkfp 0.2.5 has requirement urllib3<1.25,>=1.15, but you'll have urllib3 1.25.8 which is incompatible.\u001b[0m\n",
      "\u001b[31mdistributed 2.10.0 has requirement dask>=2.9.0, but you'll have dask 1.1.5 which is incompatible.\u001b[0m\n",
      "Installing collected packages: bleach, pygments, readme-renderer, idna, urllib3, requests, ujson, jeepney, SecretStorage, keyring, setuptools, zipp, v3io\n",
      "  Found existing installation: bleach 3.1.0\n",
      "    Uninstalling bleach-3.1.0:\n",
      "      Successfully uninstalled bleach-3.1.0\n",
      "  Found existing installation: Pygments 2.5.2\n",
      "    Uninstalling Pygments-2.5.2:\n",
      "      Successfully uninstalled Pygments-2.5.2\n",
      "  Found existing installation: idna 2.8\n",
      "    Uninstalling idna-2.8:\n",
      "      Successfully uninstalled idna-2.8\n",
      "  Found existing installation: urllib3 1.24.3\n",
      "    Uninstalling urllib3-1.24.3:\n",
      "      Successfully uninstalled urllib3-1.24.3\n",
      "  Found existing installation: requests 2.22.0\n",
      "    Uninstalling requests-2.22.0:\n",
      "      Successfully uninstalled requests-2.22.0\n",
      "  Found existing installation: setuptools 45.1.0.post20200127\n",
      "    Uninstalling setuptools-45.1.0.post20200127:\n",
      "      Successfully uninstalled setuptools-45.1.0.post20200127\n",
      "  Found existing installation: zipp 0.6.0\n",
      "    Uninstalling zipp-0.6.0:\n",
      "      Successfully uninstalled zipp-0.6.0\n",
      "Successfully installed SecretStorage-3.1.2 bleach-3.1.4 idna-2.9 jeepney-0.4.3 keyring-21.2.0 pygments-2.6.1 readme-renderer-25.0 requests-2.23.0 setuptools-46.1.3 ujson-2.0.3 urllib3-1.25.8 v3io-0.3.2 zipp-3.1.0\n"
     ]
    }
   ],
   "source": [
    "%nuclio cmd pip install v3io"
   ]
  },
  {
   "cell_type": "code",
   "execution_count": null,
   "metadata": {},
   "outputs": [],
   "source": [
    "%%nuclio config\n",
    "# Base image\n",
    "spec.build.baseImage = \"python:3.6-jessie\"\n",
    "spec.triggers.httpworkers.kind = \"http\"\n",
    "spec.triggers.httpworkers.maxWorkers  = 32\n",
    "spec.triggers.httpworkers.workerAvailabilityTimeoutMilliseconds = 1000"
   ]
  },
  {
   "cell_type": "code",
   "execution_count": 3,
   "metadata": {},
   "outputs": [
    {
     "name": "stdout",
     "output_type": "stream",
     "text": [
      "%nuclio: setting 'V3IO_API' environment variable\n",
      "%nuclio: setting 'V3IO_ACCESS_KEY' environment variable\n",
      "%nuclio: setting 'CONTAINER' environment variable\n",
      "%nuclio: setting 'TABLE_PATH' environment variable\n",
      "%nuclio: setting 'NUM_THREADS' environment variable\n"
     ]
    }
   ],
   "source": [
    "%%nuclio env \n",
    "V3IO_API=http://v3io-webapi:8081\n",
    "V3IO_ACCESS_KEY=${V3IO_ACCESS_KEY}\n",
    "CONTAINER=development\n",
    "TABLE_PATH=/padsquad/simpli_events_optimized\n",
    "NUM_THREADS=16"
   ]
  },
  {
   "cell_type": "code",
   "execution_count": 4,
   "metadata": {},
   "outputs": [],
   "source": [
    "import os\n",
    "import queue\n",
    "import threading\n",
    "import datetime\n",
    "import uuid\n",
    "\n",
    "import v3io.dataplane"
   ]
  },
  {
   "cell_type": "code",
   "execution_count": 9,
   "metadata": {},
   "outputs": [],
   "source": [
    "def handler(context, event):\n",
    "    # shove event into queue to be handled by the threads\n",
    "    context.event_queue.put(event)\n",
    "\n",
    "    # immediately return with an \"ACCEPTED\" response\n",
    "    return context.Response(status_code=202,\n",
    "                            headers={\n",
    "                                \"Access-Control-Allow-Origin\": \"*\",\n",
    "                                \"Access-Control-Allow-Headers\": \"cache-control, content-type\"\n",
    "                            })"
   ]
  },
  {
   "cell_type": "code",
   "execution_count": 6,
   "metadata": {},
   "outputs": [],
   "source": [
    "def init_context(context):\n",
    "    # create configuration\n",
    "    setattr(context, 'config', {\n",
    "        'num_threads': os.environ.get('NUM_THREADS', 16),\n",
    "        'container': os.environ.get('CONTAINER', 'users'),\n",
    "        'path': os.environ.get('TABLE_PATH', '/padsquad/test'),\n",
    "    })\n",
    "\n",
    "    # create queue and thread pool\n",
    "    setattr(context, 'event_queue', queue.Queue())\n",
    "    setattr(context, 'thread_pool', _create_thread_pool(context))\n",
    "\n",
    "\n",
    "def _create_thread_pool(context):\n",
    "    thread_pool = []\n",
    "    for thread_idx in range(int(context.config['num_threads'])):\n",
    "        thread = threading.Thread(target=_thread_entry, args=(context,))\n",
    "        thread.start()\n",
    "\n",
    "        # add to pool\n",
    "        thread_pool.append(thread)\n",
    "\n",
    "\n",
    "def _thread_entry(context):\n",
    "    # create our very own v3io client with 1 connection towards webapi, since we\n",
    "    # don't plan on doing any parallel requests within the thread\n",
    "    v3io_client = v3io.dataplane.Client(context.logger, max_connections=1)\n",
    "\n",
    "    while True:\n",
    "        event = context.event_queue.get()\n",
    "        if event is None:\n",
    "            break\n",
    "\n",
    "        try:\n",
    "            _store_event(context, v3io_client, event)\n",
    "        except Exception as e:\n",
    "            context.logger.warn_with('Failed to store event', e=e)\n",
    "\n",
    "\n",
    "def _store_event(context, v3io_client, event):\n",
    "    now = datetime.datetime.now()\n",
    "\n",
    "    record_id = str(uuid.uuid4())\n",
    "\n",
    "    # store in v3io\n",
    "    v3io_client.put_item(container=context.config['container'],\n",
    "                         path=os.path.join(context.config['path'], record_id),\n",
    "                         attributes={\n",
    "                             'id': record_id,\n",
    "                             'date_year': now.year,\n",
    "                             'date_month': now.month,\n",
    "                             'date_day': now.day,\n",
    "                             'date_hour': now.hour,\n",
    "                             'CPProcess_IND': 0,\n",
    "                             'DOProcess_IND': 0,\n",
    "                             'who': event.body.get('who', ''),\n",
    "                             'label': event.body.get('label', ''),\n",
    "                             'assetName': event.body.get('assetName', ''),\n",
    "                             'target': event.body.get('target', ''),\n",
    "                             'direction': event.body.get('direction', ''),\n",
    "                             'impressionID': event.body.get('impressionID', ''),\n",
    "                             'simpliCampaignId': event.body.get('simpliCampaignId', ''),\n",
    "                             'simpliPlacementId': event.body.get('simpliPlacementId', ''),\n",
    "                             'celtraCreativeId': event.body.get('celtraCreativeId', ''),\n",
    "                             'type': event.body.get('type', ''),\n",
    "                         })"
   ]
  },
  {
   "cell_type": "code",
   "execution_count": 7,
   "metadata": {},
   "outputs": [
    {
     "name": "stdout",
     "output_type": "stream",
     "text": [
      "[nuclio] 2020-03-28 22:45:38,533 (info) Building processor image\n",
      "[nuclio] 2020-03-28 22:45:43,590 (info) Build complete\n",
      "[nuclio] 2020-03-28 22:45:47,697 (info) Function deploy complete\n",
      "[nuclio] 2020-03-28 22:45:47,708 done creating simpli-events-optimized, function address: 3.87.145.179:30981\n",
      "%nuclio: function deployed\n"
     ]
    }
   ],
   "source": [
    "%nuclio deploy -p iguazio-optimized -n simpli-events-optimized -c"
   ]
  },
  {
   "cell_type": "code",
   "execution_count": null,
   "metadata": {},
   "outputs": [],
   "source": [
    "%nuclio show"
   ]
  },
  {
   "cell_type": "code",
   "execution_count": null,
   "metadata": {},
   "outputs": [],
   "source": []
  }
 ],
 "metadata": {
  "kernelspec": {
   "display_name": "Python 3",
   "language": "python",
   "name": "python3"
  },
  "language_info": {
   "codemirror_mode": {
    "name": "ipython",
    "version": 3
   },
   "file_extension": ".py",
   "mimetype": "text/x-python",
   "name": "python",
   "nbconvert_exporter": "python",
   "pygments_lexer": "ipython3",
   "version": "3.6.8"
  }
 },
 "nbformat": 4,
 "nbformat_minor": 4
}
