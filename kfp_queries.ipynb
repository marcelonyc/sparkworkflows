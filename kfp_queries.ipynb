{
 "cells": [
  {
   "cell_type": "code",
   "execution_count": 1,
   "metadata": {},
   "outputs": [],
   "source": [
    "import kfp\n"
   ]
  },
  {
   "cell_type": "code",
   "execution_count": 2,
   "metadata": {},
   "outputs": [],
   "source": [
    "Client = kfp.Client('http://ml-pipeline:8888')"
   ]
  },
  {
   "cell_type": "code",
   "execution_count": 3,
   "metadata": {},
   "outputs": [
    {
     "data": {
      "text/plain": [
       "{'experiments': [{'created_at': datetime.datetime(2020, 4, 18, 12, 46, 35, tzinfo=tzlocal()),\n",
       "                  'description': 'All runs created without specifying an '\n",
       "                                 'experiment will be grouped here.',\n",
       "                  'id': '48f1fc72-54db-4d2f-9ef0-de1e8bd31ea9',\n",
       "                  'name': 'Default'},\n",
       "                 {'created_at': datetime.datetime(2020, 4, 20, 16, 7, 46, tzinfo=tzlocal()),\n",
       "                  'description': None,\n",
       "                  'id': '42fdfb07-84de-4610-b28e-106db8110917',\n",
       "                  'name': 'Spark1'},\n",
       "                 {'created_at': datetime.datetime(2020, 4, 20, 19, 48, tzinfo=tzlocal()),\n",
       "                  'description': None,\n",
       "                  'id': '4e443437-a265-45bf-bd25-dce4d403fc7f',\n",
       "                  'name': 'SparkPipeline'}],\n",
       " 'next_page_token': None,\n",
       " 'total_size': 3}"
      ]
     },
     "execution_count": 3,
     "metadata": {},
     "output_type": "execute_result"
    }
   ],
   "source": [
    "Client.list_experiments()"
   ]
  },
  {
   "cell_type": "code",
   "execution_count": 9,
   "metadata": {},
   "outputs": [],
   "source": [
    "run_out=Client.get_run('a6553c30-8519-48cf-b716-d071dafd0622')"
   ]
  },
  {
   "cell_type": "code",
   "execution_count": 11,
   "metadata": {},
   "outputs": [
    {
     "data": {
      "text/plain": [
       "'Succeeded'"
      ]
     },
     "execution_count": 11,
     "metadata": {},
     "output_type": "execute_result"
    }
   ],
   "source": [
    "run_out.to_dict()['run']['status']"
   ]
  },
  {
   "cell_type": "code",
   "execution_count": null,
   "metadata": {},
   "outputs": [],
   "source": []
  }
 ],
 "metadata": {
  "kernelspec": {
   "display_name": "Python [conda env:root] *",
   "language": "python",
   "name": "conda-root-py"
  },
  "language_info": {
   "codemirror_mode": {
    "name": "ipython",
    "version": 3
   },
   "file_extension": ".py",
   "mimetype": "text/x-python",
   "name": "python",
   "nbconvert_exporter": "python",
   "pygments_lexer": "ipython3",
   "version": "3.6.8"
  }
 },
 "nbformat": 4,
 "nbformat_minor": 4
}
