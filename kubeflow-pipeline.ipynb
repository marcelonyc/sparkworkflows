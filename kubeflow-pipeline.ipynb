{
 "cells": [
  {
   "cell_type": "code",
   "execution_count": 1,
   "metadata": {},
   "outputs": [],
   "source": [
    "from mlrun import new_function, NewTask, get_run_db, mlconf, mount_v3io, new_model_server, builder\n",
    "import kfp\n",
    "from kfp import dsl\n",
    "import os\n",
    "from os.path import isfile, join"
   ]
  },
  {
   "cell_type": "code",
   "execution_count": 2,
   "metadata": {},
   "outputs": [],
   "source": [
    "mlconf.dbpath = 'http://mlrun-api:8080'"
   ]
  },
  {
   "cell_type": "code",
   "execution_count": 3,
   "metadata": {},
   "outputs": [],
   "source": [
    "# Environment vars to be set by Nuclio\n",
    "PYTHON_SCRIPT = os.getenv('PYTHON_SCRIPT','/kv-to-parquet.py')\n",
    "V3IO_SCRIPT_PATH = os.getenv('V3IO_SCRIPT_PATH',os.getcwd().replace('/User','/v3io/'+os.getenv('V3IO_HOME')))\n",
    "SPARK_JOB_NAME = os.getenv('SPARK_JOB_NAME','my-spark-job') \n",
    "SPARK_SPEC_MEM = os.getenv('SPARK_SPEC_MEM','2g') \n",
    "SPARK_SPEC_CPU = int(os.getenv('SPARK_SPEC_CPU',1) )\n",
    "SPARK_SPEC_REPLICAS = int(os.getenv('SPARK_SPEC_REPLICAS',1) )"
   ]
  },
  {
   "cell_type": "code",
   "execution_count": 4,
   "metadata": {},
   "outputs": [],
   "source": [
    "#Set the pyspark script path\n",
    "V3IO_SCRIPT_PATH = V3IO_SCRIPT_PATH+PYTHON_SCRIPT"
   ]
  },
  {
   "cell_type": "code",
   "execution_count": 5,
   "metadata": {},
   "outputs": [],
   "source": [
    "#Get the list of the dpendency jars\n",
    "V3IO_JARS_PATH = '/igz/java/libs/'\n",
    "DEPS_JARS_LIST = [join(V3IO_JARS_PATH, f) for f in os.listdir(V3IO_JARS_PATH) \n",
    "                  if isfile(join(V3IO_JARS_PATH, f)) and f.startswith('v3io-') and f.endswith('.jar')]\n"
   ]
  },
  {
   "cell_type": "code",
   "execution_count": 6,
   "metadata": {},
   "outputs": [],
   "source": [
    "#Create MLRun function to run the spark-job on the kubernetes cluster\n",
    "serverless_spark_fn = new_function(kind='spark', image='urihoenig/spark-app:2.4.4-2.9.0-0.0.3', \n",
    "                                   command=f'local://{V3IO_SCRIPT_PATH}', name=SPARK_JOB_NAME).apply(mount_v3io(name='v3io', remote='~/', mount_path='/User', access_key=os.getenv('V3IO_ACCESS_KEY'),\n",
    "      user=os.getenv('V3IO_USERNAME')))"
   ]
  },
  {
   "cell_type": "code",
   "execution_count": 7,
   "metadata": {},
   "outputs": [],
   "source": [
    "serverless_spark_fn.spec.env.append({'name':'V3IO_HOME_URL','value':os.getenv(\"V3IO_HOME_URL\")})"
   ]
  },
  {
   "cell_type": "code",
   "execution_count": 8,
   "metadata": {},
   "outputs": [],
   "source": [
    "serverless_spark_fn.with_limits(mem=SPARK_SPEC_MEM)\n",
    "serverless_spark_fn.with_requests(cpu=SPARK_SPEC_CPU)\n",
    "serverless_spark_fn.with_igz_spark(igz_version='2.8_b3506_20191217042239')\n",
    "#Set number of executors\n",
    "serverless_spark_fn.spec.replicas = SPARK_SPEC_REPLICAS"
   ]
  },
  {
   "cell_type": "code",
   "execution_count": 9,
   "metadata": {},
   "outputs": [],
   "source": [
    "@dsl.pipeline(\n",
    "    name='Kubeflow pipeline with Spark jobs',\n",
    "    description='Run SparkK8s as par tof pipeline'\n",
    ")\n",
    "def example_pipeline(\n",
    "   p1 = [1,2,3,4,5,6],\n",
    "   p2 = [9,8,6,5,4,3]\n",
    "):\n",
    "    # Use the same fn definition, but run different functions.\n",
    "    # fn2 is a definition from the external notebook\n",
    "    f1 = serverless_spark_fn.as_step(NewTask(), name='Sparkstep1').apply(mount_v3io(name='v3io', remote='~/', mount_path='/User', access_key=os.getenv('V3IO_ACCESS_KEY'),\n",
    "      user=os.getenv('V3IO_USERNAME')))\n",
    "    "
   ]
  },
  {
   "cell_type": "code",
   "execution_count": 10,
   "metadata": {},
   "outputs": [],
   "source": [
    "client = kfp.Client(namespace='default-tenant')\n",
    "p1 = [1,2,3,4,5,6]\n",
    "p2 = [9,8,6,5,4,3]\n",
    "#arguments = {'p1': p1 ,'p2': p2}\n",
    "arguments={}"
   ]
  },
  {
   "cell_type": "markdown",
   "metadata": {},
   "source": [
    "# Record pipeline deployment in KV"
   ]
  },
  {
   "cell_type": "code",
   "execution_count": 11,
   "metadata": {},
   "outputs": [],
   "source": [
    "import uuid\n",
    "import v3io.dataplane"
   ]
  },
  {
   "cell_type": "code",
   "execution_count": 15,
   "metadata": {},
   "outputs": [],
   "source": [
    "v3io_client = v3io.dataplane.Client(context.logger, max_connections=1)"
   ]
  },
  {
   "cell_type": "code",
   "execution_count": 18,
   "metadata": {},
   "outputs": [],
   "source": [
    "def record_pipeline_id(run_id):\n",
    "    record_id=str(run_id)\n",
    "    v3io_client.put_item(container=os.getenv('MONITOR_CONTAINER','bigdata'),\n",
    "                         path=os.path.join(os.getenv('MONITOR_TABLE','kubeflow_runs'),record_id),\n",
    "                         attributes={\n",
    "                             'id': record_id,\n",
    "                             'status' : 'started',}\n",
    "                        )"
   ]
  },
  {
   "cell_type": "markdown",
   "metadata": {},
   "source": [
    "# get the Kubeflow run_id\n",
    "Note: This notebook was written to invoke the deployment as an mlrun function."
   ]
  },
  {
   "cell_type": "code",
   "execution_count": 21,
   "metadata": {},
   "outputs": [],
   "source": [
    "def handler(context,event):\n",
    "    run_id=str(uuid.uuid4())\n",
    "    run_result = client.create_run_from_pipeline_func(example_pipeline, arguments, run_name='SparkPipe-'+run_id, experiment_name='SparkPipeline')\n",
    "    record_pipeline_id(run_result.run_id)\n",
    "    return run_result"
   ]
  },
  {
   "cell_type": "code",
   "execution_count": 24,
   "metadata": {},
   "outputs": [
    {
     "data": {
      "text/html": [
       "Experiment link <a href=\"https://dashboard.default-tenant.app.mdl0418.iguazio-cd1.com/pipelines/#/experiments/details/4e443437-a265-45bf-bd25-dce4d403fc7f\" target=\"_blank\" >here</a>"
      ],
      "text/plain": [
       "<IPython.core.display.HTML object>"
      ]
     },
     "metadata": {},
     "output_type": "display_data"
    },
    {
     "data": {
      "text/html": [
       "Run link <a href=\"https://dashboard.default-tenant.app.mdl0418.iguazio-cd1.com/pipelines/#/runs/details/44955143-38da-4079-a291-989d6afe205e\" target=\"_blank\" >here</a>"
      ],
      "text/plain": [
       "<IPython.core.display.HTML object>"
      ]
     },
     "metadata": {},
     "output_type": "display_data"
    }
   ],
   "source": [
    "runobj=handler('a','b')"
   ]
  },
  {
   "cell_type": "code",
   "execution_count": 25,
   "metadata": {},
   "outputs": [
    {
     "data": {
      "text/plain": [
       "'44955143-38da-4079-a291-989d6afe205e'"
      ]
     },
     "execution_count": 25,
     "metadata": {},
     "output_type": "execute_result"
    }
   ],
   "source": [
    "runobj.run_id"
   ]
  },
  {
   "cell_type": "code",
   "execution_count": null,
   "metadata": {},
   "outputs": [],
   "source": []
  }
 ],
 "metadata": {
  "kernelspec": {
   "display_name": "Python 3",
   "language": "python",
   "name": "python3"
  },
  "language_info": {
   "codemirror_mode": {
    "name": "ipython",
    "version": 3
   },
   "file_extension": ".py",
   "mimetype": "text/x-python",
   "name": "python",
   "nbconvert_exporter": "python",
   "pygments_lexer": "ipython3",
   "version": "3.6.8"
  }
 },
 "nbformat": 4,
 "nbformat_minor": 4
}
