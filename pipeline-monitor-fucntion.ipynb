{
 "cells": [
  {
   "cell_type": "markdown",
   "metadata": {},
   "source": [
    "# Nuclio - Generator function"
   ]
  },
  {
   "cell_type": "markdown",
   "metadata": {},
   "source": [
    "## Environment"
   ]
  },
  {
   "cell_type": "code",
   "execution_count": 2,
   "metadata": {},
   "outputs": [],
   "source": [
    "# nuclio: ignore\n",
    "import nuclio"
   ]
  },
  {
   "cell_type": "code",
   "execution_count": 3,
   "metadata": {},
   "outputs": [],
   "source": [
    "#%run set_env.ipynb"
   ]
  },
  {
   "cell_type": "markdown",
   "metadata": {},
   "source": [
    "### Configurations"
   ]
  },
  {
   "cell_type": "code",
   "execution_count": 4,
   "metadata": {},
   "outputs": [],
   "source": [
    "import os\n",
    "import datetime"
   ]
  },
  {
   "cell_type": "code",
   "execution_count": 5,
   "metadata": {},
   "outputs": [],
   "source": [
    "### NOTE\n",
    "## Platform version dependent. Reguired only to trigger a Spark Pipeline\n",
    "base_image='iguazio/jupyter-all:2.8_b119_20200417000155'"
   ]
  },
  {
   "cell_type": "code",
   "execution_count": 6,
   "metadata": {},
   "outputs": [],
   "source": [
    "# nuclio: ignore\n",
    "spec = nuclio.ConfigSpec(config={\"spec.triggers.inference.kind\":\"cron\",\n",
    "                                \"spec.triggers.inference.attributes.interval\" :\"10m\",\n",
    "                                \"spec.readinessTimeoutSeconds\" : 60,\n",
    "                                \"spec.minReplicas\" : 1,\n",
    "                                \"spec.build.baseImage\" : base_image },\n",
    "                         env={'V3IO_HOME' : os.getenv('V3IO_HOME'),\n",
    "                              'V3IO_ACCESS_KEY' : os.getenv('V3IO_ACCESS_KEY'),\n",
    "                              'V3IO_USERNAME' : os.getenv('V3IO_USERNAME'),\n",
    "                              'V3IO_HOME_URL' : os.getenv('V3IO_HOME_URL'),\n",
    "                              'MONITOR_CONTAINER' : 'bigdata',\n",
    "                              'MONITOR_TABLE' : 'kubeflow_runs/',\n",
    "                              \n",
    "                         },\n",
    "                         cmd=['pip install mlrun v3io'],\n",
    "                        ).with_v3io().add_volume('/User',os.path.join('/users',os.getenv('V3IO_USERNAME')),kind='v3io',name='v3io')"
   ]
  },
  {
   "cell_type": "code",
   "execution_count": 7,
   "metadata": {},
   "outputs": [],
   "source": [
    "import v3io.dataplane\n",
    "import kfp\n",
    "import pandas as pd\n",
    "import json"
   ]
  },
  {
   "cell_type": "code",
   "execution_count": 8,
   "metadata": {},
   "outputs": [],
   "source": [
    "Client = kfp.Client(host='http://ml-pipeline.default-tenant.svc:8888')\n",
    "v3io_client = v3io.dataplane.Client(max_connections=1)"
   ]
  },
  {
   "cell_type": "code",
   "execution_count": 9,
   "metadata": {},
   "outputs": [],
   "source": [
    "def delete_monitor_record(id):\n",
    "    v3io_client.delete_object(os.getenv('MONITOR_CONTAINER','bigdata'),os.getenv('MONITOR_TABLE','kubeflow_runs/')+id)\n",
    "    return"
   ]
  },
  {
   "cell_type": "code",
   "execution_count": 10,
   "metadata": {},
   "outputs": [],
   "source": [
    "def send_alert(id):\n",
    "    pass"
   ]
  },
  {
   "cell_type": "code",
   "execution_count": 11,
   "metadata": {},
   "outputs": [],
   "source": [
    "# Get list of Runs from KV table\n",
    "# Each pipeline writes a record to this table afte rdeploying\n",
    "# The table is keyed by Kubeflow run id\n",
    "def get_runs():\n",
    "    LastItemIncluded = 'FALSE'\n",
    "    NextMarker=''\n",
    "    records=[]\n",
    "    while LastItemIncluded == \"FALSE\":\n",
    "        run_items = json.loads(v3io_client.get_items(os.getenv('MONITOR_CONTAINER','bigdata'),os.getenv('MONITOR_TABLE','kubeflow_runs/'),marker=NextMarker).body.decode('utf-8'))\n",
    "        LastItemIncluded=run_items['LastItemIncluded']\n",
    "        if 'NextMarker' in run_items:\n",
    "            NextMarker=run_items['NextMarker']\n",
    "        for runs in run_items['Items']:\n",
    "            status = runs['status']['S']\n",
    "            id = runs['__name']['S']\n",
    "            records.append({'id': id,'status': status})\n",
    "    return records\n",
    "        "
   ]
  },
  {
   "cell_type": "code",
   "execution_count": 12,
   "metadata": {},
   "outputs": [],
   "source": [
    "# Get the status of each pipeline entered in the KV table\n",
    "# Delete record that succeeded\n",
    "# TBD records that failed\n",
    "def get_kfp_status(run_items):\n",
    "    run_status=[]\n",
    "    for runs in run_items:\n",
    "        run_out=Client.get_run(runs['id'])\n",
    "        #print(run_out)\n",
    "        status=run_out.to_dict()['run']['status']\n",
    "        run_status.append({'name': runs['id'], 'status' : status})\n",
    "        print(status)\n",
    "        if status == 'Succeeded':\n",
    "           delete_monitor_record(runs['id'])\n",
    "        if status == 'Failed':\n",
    "           send_alert(runs['id'])\n",
    "    return run_status\n",
    "    \n",
    "    "
   ]
  },
  {
   "cell_type": "code",
   "execution_count": 13,
   "metadata": {},
   "outputs": [],
   "source": [
    "def handler(context,event):\n",
    "    run_id = event.fields\n",
    "    if 'run_id' in run_id:\n",
    "        run_id = str(run_id['run_id'])\n",
    "        try:\n",
    "            run_out=Client.get_run(run_id)\n",
    "            run_status=[{'name' : run_id , 'status' : run_out.to_dict()['run']['status']}]\n",
    "        except:\n",
    "            run_status=\"Not Found: %s\"% run_id\n",
    "        return run_status\n",
    "    \n",
    "    run_items = get_runs()\n",
    "    \n",
    "    pipeline_status = get_kfp_status(run_items)\n",
    "    \n",
    "    return pipeline_status"
   ]
  },
  {
   "cell_type": "markdown",
   "metadata": {},
   "source": [
    "## Test"
   ]
  },
  {
   "cell_type": "code",
   "execution_count": 23,
   "metadata": {},
   "outputs": [
    {
     "name": "stdout",
     "output_type": "stream",
     "text": [
      "Failed\n"
     ]
    },
    {
     "data": {
      "text/plain": [
       "[{'name': 'de2d3a55-db40-4f90-8ca9-b02552e1c94b', 'status': 'Failed'}]"
      ]
     },
     "execution_count": 23,
     "metadata": {},
     "output_type": "execute_result"
    }
   ],
   "source": [
    "# nuclio: ignore\n",
    "#event = nuclio.Event(body='',fields={'run_id':'e121acc0-ab1a-41ec-9e0e-1df6bfcbecbe'})\n",
    "event = nuclio.Event(body='')\n",
    "output = handler(context, event)\n",
    "output"
   ]
  },
  {
   "cell_type": "markdown",
   "metadata": {},
   "source": [
    "# Deploy"
   ]
  },
  {
   "cell_type": "code",
   "execution_count": 26,
   "metadata": {},
   "outputs": [
    {
     "name": "stdout",
     "output_type": "stream",
     "text": [
      "[nuclio] 2020-04-21 15:41:19,140 (info) Build complete\n",
      "[nuclio] 2020-04-21 15:41:25,220 (info) Function deploy complete\n",
      "[nuclio] 2020-04-21 15:41:25,230 done updating kfpmonitor, function address: 3.12.248.124:32420\n"
     ]
    }
   ],
   "source": [
    "# nuclio: ignore\n",
    "#%nuclio deploy -p netops -n generator -c\n",
    "addr = nuclio.deploy_file(name='kfpmonitor',project='monitoring',spec=spec)\n"
   ]
  },
  {
   "cell_type": "code",
   "execution_count": 44,
   "metadata": {},
   "outputs": [
    {
     "name": "stdout",
     "output_type": "stream",
     "text": [
      "[{\"name\": \"de2d3a55-db40-4f90-8ca9-b02552e1c94b\", \"status\": \"Failed\"}]"
     ]
    }
   ],
   "source": [
    "# nuclio: ignore\n",
    "!curl -X GET {addr}"
   ]
  },
  {
   "cell_type": "code",
   "execution_count": 46,
   "metadata": {},
   "outputs": [
    {
     "name": "stdout",
     "output_type": "stream",
     "text": [
      "[{\"name\": \"de2d3a55-db40-4f90-8ca9-b02552e1c94b\", \"status\": \"Failed\"}]"
     ]
    }
   ],
   "source": [
    "# nuclio: ignore\n",
    "!curl -X GET {addr}/?run_id=de2d3a55-db40-4f90-8ca9-b02552e1c94b"
   ]
  },
  {
   "cell_type": "code",
   "execution_count": null,
   "metadata": {},
   "outputs": [],
   "source": []
  }
 ],
 "metadata": {
  "kernelspec": {
   "display_name": "Python [conda env:root] *",
   "language": "python",
   "name": "conda-root-py"
  },
  "language_info": {
   "codemirror_mode": {
    "name": "ipython",
    "version": 3
   },
   "file_extension": ".py",
   "mimetype": "text/x-python",
   "name": "python",
   "nbconvert_exporter": "python",
   "pygments_lexer": "ipython3",
   "version": "3.6.8"
  }
 },
 "nbformat": 4,
 "nbformat_minor": 4
}
