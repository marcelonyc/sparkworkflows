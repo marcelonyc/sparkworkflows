{
 "cells": [
  {
   "cell_type": "markdown",
   "metadata": {},
   "source": [
    "# Nuclio - Generator function"
   ]
  },
  {
   "cell_type": "markdown",
   "metadata": {},
   "source": [
    "## Environment"
   ]
  },
  {
   "cell_type": "code",
   "execution_count": 6,
   "metadata": {},
   "outputs": [],
   "source": [
    "# nuclio: ignore\n",
    "import nuclio"
   ]
  },
  {
   "cell_type": "code",
   "execution_count": 23,
   "metadata": {},
   "outputs": [],
   "source": [
    "#%run set_env.ipynb"
   ]
  },
  {
   "cell_type": "markdown",
   "metadata": {},
   "source": [
    "### Configurations"
   ]
  },
  {
   "cell_type": "code",
   "execution_count": 14,
   "metadata": {},
   "outputs": [],
   "source": [
    "import os\n",
    "import datetime"
   ]
  },
  {
   "cell_type": "code",
   "execution_count": 15,
   "metadata": {},
   "outputs": [],
   "source": [
    "### NOTE\n",
    "## Platform version dependent"
   ]
  },
  {
   "cell_type": "code",
   "execution_count": 18,
   "metadata": {},
   "outputs": [],
   "source": [
    "# nuclio: ignore\n",
    "spec = nuclio.ConfigSpec(config={\"spec.triggers.inference.kind\":\"cron\",\n",
    "                                \"spec.triggers.inference.attributes.interval\" :\"10m\",\n",
    "                                \"spec.readinessTimeoutSeconds\" : 60,\n",
    "                                \"spec.minReplicas\" : 1 },\n",
    "                         env={'V3IO_HOME' : os.getenv('V3IO_HOME'),\n",
    "                              'V3IO_ACCESS_KEY' : os.getenv('V3IO_ACCESS_KEY'),\n",
    "                              'V3IO_USERNAME' : os.getenv('V3IO_USERNAME'),\n",
    "                              'V3IO_HOME_URL' : os.getenv('V3IO_HOME_URL'),\n",
    "                              'MONITOR_CONTAINER' : 'bigdata',\n",
    "                              'MONITOR_TABLE' : 'kubeflow_runs',\n",
    "                              \n",
    "                         },\n",
    "                         cmd=['pip install mlrun v3io'],\n",
    "                        ).with_v3io().add_volume('/User',os.path.join('/users',os.getenv('V3IO_USERNAME')),kind='v3io',name='v3io')"
   ]
  },
  {
   "cell_type": "code",
   "execution_count": 55,
   "metadata": {},
   "outputs": [],
   "source": [
    "import v3io.dataplane\n",
    "import kfp\n",
    "import pandas as pd\n",
    "import json"
   ]
  },
  {
   "cell_type": "code",
   "execution_count": 41,
   "metadata": {},
   "outputs": [],
   "source": [
    "Client = kfp.Client(host='http://ml-pipeline.default-tenant.svc:8888')\n",
    "v3io_client = v3io.dataplane.Client(context.logger, max_connections=1)"
   ]
  },
  {
   "cell_type": "code",
   "execution_count": 77,
   "metadata": {},
   "outputs": [],
   "source": [
    "def handler(context,event):\n",
    "    run_id = event.fields\n",
    "    if 'run_id' in run_id:\n",
    "        run_id = str(run_id['run_id'])\n",
    "        try:\n",
    "            run_out=Client.get_run(run_id)\n",
    "            run_status=run_out.to_dict()['run']['status']\n",
    "        except:\n",
    "            run_status=\"Not Found: %s\"% run_id\n",
    "        return run_status\n",
    "    \n",
    "    run_items = json.loads(v3io_client.get_items(os.getenv('MONITOR_CONTAINER','bigdata'),os.getenv('MONITOR_TABLE','kubeflow_runs/')).body.decode('utf-8'))\n",
    "    \n",
    "    return run_items"
   ]
  },
  {
   "cell_type": "markdown",
   "metadata": {},
   "source": [
    "## Test"
   ]
  },
  {
   "cell_type": "code",
   "execution_count": 78,
   "metadata": {},
   "outputs": [
    {
     "data": {
      "text/plain": [
       "{'LastItemIncluded': 'FALSE',\n",
       " 'NextMarker': 'qwAAAAAAAAAABAAAAAAAAAAAAAAAAAAA',\n",
       " 'NumItems': 1,\n",
       " 'Items': [{'__name': {'S': 'dd306c73-f833-4a55-ae68-ffcf43e8f744'},\n",
       "   'status': {'S': 'started'},\n",
       "   'id': {'S': 'dd306c73-f833-4a55-ae68-ffcf43e8f744'}}]}"
      ]
     },
     "execution_count": 78,
     "metadata": {},
     "output_type": "execute_result"
    }
   ],
   "source": [
    "# nuclio: ignore\n",
    "#event = nuclio.Event(body='',fields={'run_id':'e121acc0-ab1a-41ec-9e0e-1df6bfcbecbe'})\n",
    "event = nuclio.Event(body='')\n",
    "output = handler(context, event)\n",
    "output"
   ]
  },
  {
   "cell_type": "markdown",
   "metadata": {},
   "source": [
    "# Deploy"
   ]
  },
  {
   "cell_type": "code",
   "execution_count": 37,
   "metadata": {},
   "outputs": [
    {
     "name": "stdout",
     "output_type": "stream",
     "text": [
      "[nuclio] 2020-04-20 20:45:44,960 (info) Build complete\n",
      "[nuclio] 2020-04-20 20:45:53,038 (info) Function deploy complete\n",
      "[nuclio] 2020-04-20 20:45:53,044 done updating kfpmonitor, function address: 3.12.248.124:32420\n"
     ]
    }
   ],
   "source": [
    "# nuclio: ignore\n",
    "#%nuclio deploy -p netops -n generator -c\n",
    "addr = nuclio.deploy_file(name='kfpmonitor',project='monitoring',spec=spec)\n"
   ]
  },
  {
   "cell_type": "code",
   "execution_count": null,
   "metadata": {},
   "outputs": [],
   "source": []
  }
 ],
 "metadata": {
  "kernelspec": {
   "display_name": "Python 3",
   "language": "python",
   "name": "python3"
  },
  "language_info": {
   "codemirror_mode": {
    "name": "ipython",
    "version": 3
   },
   "file_extension": ".py",
   "mimetype": "text/x-python",
   "name": "python",
   "nbconvert_exporter": "python",
   "pygments_lexer": "ipython3",
   "version": "3.6.8"
  }
 },
 "nbformat": 4,
 "nbformat_minor": 4
}
