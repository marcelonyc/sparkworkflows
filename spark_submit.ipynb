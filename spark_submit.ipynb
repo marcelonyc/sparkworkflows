{
 "cells": [
  {
   "cell_type": "markdown",
   "metadata": {},
   "source": [
    "# Submiting spark"
   ]
  },
  {
   "cell_type": "code",
   "execution_count": 1,
   "metadata": {},
   "outputs": [],
   "source": [
    "#!pip install mlrun"
   ]
  },
  {
   "cell_type": "code",
   "execution_count": 2,
   "metadata": {},
   "outputs": [],
   "source": [
    "# nuclio: ignore\n",
    "import nuclio"
   ]
  },
  {
   "cell_type": "markdown",
   "metadata": {},
   "source": [
    "Define the MLRun environment"
   ]
  },
  {
   "cell_type": "code",
   "execution_count": 3,
   "metadata": {},
   "outputs": [
    {
     "name": "stdout",
     "output_type": "stream",
     "text": [
      "%nuclio: setting kind to 'job'\n"
     ]
    }
   ],
   "source": [
    "%nuclio config kind = \"job\"\n",
    "#%nuclio config spec.image = \"docker-registry.default-tenant.app.iguazio.padsquad.com:80/mlrun/mlrun\""
   ]
  },
  {
   "cell_type": "code",
   "execution_count": 4,
   "metadata": {},
   "outputs": [],
   "source": [
    "%run set_env.ipynb"
   ]
  },
  {
   "cell_type": "markdown",
   "metadata": {},
   "source": [
    "## Function"
   ]
  },
  {
   "cell_type": "code",
   "execution_count": 5,
   "metadata": {},
   "outputs": [],
   "source": [
    "from mlrun import get_or_create_ctx\n",
    "from kubernetes import config, client\n",
    "from kubernetes.stream import stream\n"
   ]
  },
  {
   "cell_type": "code",
   "execution_count": 73,
   "metadata": {},
   "outputs": [],
   "source": [
    "class K8SClient(object):\n",
    "\n",
    "    def __init__(self, logger, namespace='default-tenant', config_file=None):\n",
    "        self.namespace = namespace\n",
    "        self.logger = logger\n",
    "        self._init_k8s_config(config_file)\n",
    "        self.v1api = client.CoreV1Api()\n",
    "\n",
    "    def _init_k8s_config(self, config_file):\n",
    "        try:\n",
    "            config.load_incluster_config()\n",
    "            self.logger.info('using in-cluster config.')\n",
    "        except Exception:\n",
    "            try:\n",
    "                config.load_kube_config(config_file)\n",
    "                self.logger.info('using local kubernetes config.')\n",
    "            except Exception:\n",
    "                raise RuntimeError(\n",
    "                    'cannot find local kubernetes config file,'\n",
    "                    ' place it in ~/.kube/config or specify it in '\n",
    "                    'KUBECONFIG env var')\n",
    "\n",
    "    def get_shell_pod_name(self, pod_name='shell'):\n",
    "        shell_pod = self.v1api.list_namespaced_pod(namespace=self.namespace)\n",
    "        for i in shell_pod.items:\n",
    "            if pod_name in i.metadata.name:\n",
    "                self.logger.info(\"%s\\t%s\\t%s\" % (i.status.pod_ip, i.metadata.namespace, i.metadata.name))\n",
    "                shell_name = i.metadata.name\n",
    "                break\n",
    "        return shell_name\n",
    "\n",
    "    def exec_shell_cmd(self, cmd, shell_pod_name = 'shell'):\n",
    "        shell_name = self.get_shell_pod_name(shell_pod_name)\n",
    "        # Calling exec and waiting for response\n",
    "        exec_command = [\n",
    "            '/bin/bash',\n",
    "            '-c',\n",
    "            cmd]\n",
    "        resp = stream(self.v1api.connect_get_namespaced_pod_exec,\n",
    "                      shell_name,\n",
    "                      self.namespace,\n",
    "                      command=exec_command,\n",
    "                      stderr=True, stdin=False,\n",
    "                      stdout=True, tty=False)\n",
    "        self.logger.info(\"Response: \" + resp)\n",
    "\n",
    "\n",
    "def spark_command_builder(name, class_name, jars, packages, spark_options):\n",
    "    cmd = 'spark-submit'\n",
    "    if name:\n",
    "        cmd += ' --name ' + name\n",
    "\n",
    "    if class_name:\n",
    "        cmd += ' --class ' + class_name\n",
    "\n",
    "    if jars:\n",
    "        cmd += ' --jars ' + jars\n",
    "\n",
    "    if packages:\n",
    "        cmd += ' --packages ' + packages\n",
    "\n",
    "    if spark_options:\n",
    "        cmd += ' ' + spark_options\n",
    "\n",
    "    return cmd\n",
    "\n",
    "\n",
    "def spark_submit(context, v3io_access_key, name=None, class_name=None, jars=None, packages=None, spark_options=''):\n",
    "    \"\"\"spark_submit function\n",
    "    \n",
    "    submiting spark via shell\n",
    "    \n",
    "    :param name:        A name of your application.\n",
    "    :param class_name:  Your application's main class (for Java / Scala apps).\n",
    "                        * If relative will add to the {artifact_path}\n",
    "    :param jars:        Comma-separated list of jars to include on the driver\n",
    "                        and executor classpaths.\n",
    "    :param packages:    Comma-separated list of maven coordinates of jars to include\n",
    "                        on the driver and executor classpaths. Will search the local\n",
    "                        maven repo, then maven central and any additional remote\n",
    "                        repositories given by --repositories. The format for the\n",
    "    :param spark_options: spark parametes that are not included as function arguments\n",
    "    \"\"\"\n",
    "    cmd = spark_command_builder(name, class_name, jars, packages, spark_options)\n",
    "    context.logger.info(\"submiting :\" + cmd)\n",
    "    cli = K8SClient(context.logger)\n",
    "    cli.exec_shell_cmd(cmd)\n",
    "    #cli.exec_shell_cmd(\"pip uninstall -y pandas\")\n",
    "    "
   ]
  },
  {
   "cell_type": "code",
   "execution_count": 74,
   "metadata": {},
   "outputs": [],
   "source": [
    "# nuclio: end-code"
   ]
  },
  {
   "cell_type": "markdown",
   "metadata": {},
   "source": [
    "## Test\n",
    "> This test uses the metrics data, created by the [Generator function](https://github.com/mlrun/demo-network-operations/blob/master/notebooks/generator.ipynb) from MLRun's [Network Operations Demo](https://github.com/mlrun/demo-network-operations)  \n",
    "To test it yourself, please generate this dataset or use any of your available csv/parquet datasets."
   ]
  },
  {
   "cell_type": "code",
   "execution_count": 75,
   "metadata": {},
   "outputs": [],
   "source": [
    "import os\n",
    "from mlrun import code_to_function, mount_v3io, NewTask, mlconf, run_local\n",
    "mlconf.dbpath = mlconf.dbpath or 'http://mlrun-api:8080'\n",
    "mlconf.artifact_path = mlconf.artifact_path or f'{os.environ[\"HOME\"]}/artifacts'"
   ]
  },
  {
   "cell_type": "code",
   "execution_count": 76,
   "metadata": {},
   "outputs": [
    {
     "data": {
      "text/plain": [
       "'/User/sparkworkflows'"
      ]
     },
     "execution_count": 76,
     "metadata": {},
     "output_type": "execute_result"
    }
   ],
   "source": [
    "pwd"
   ]
  },
  {
   "cell_type": "markdown",
   "metadata": {},
   "source": [
    "### Define the execute test task"
   ]
  },
  {
   "cell_type": "code",
   "execution_count": 77,
   "metadata": {},
   "outputs": [],
   "source": [
    "execute_task = NewTask(name='spark-submit',\n",
    "                         project='submit-proj',\n",
    "                         params={'spark_options':\"/v3io/users/admin/sparkworkflows/pi-Copy1.py\"},                          \n",
    "                         handler=spark_submit)"
   ]
  },
  {
   "cell_type": "code",
   "execution_count": 78,
   "metadata": {},
   "outputs": [],
   "source": [
    "#submit_run = run_local(submit_task)"
   ]
  },
  {
   "cell_type": "code",
   "execution_count": 79,
   "metadata": {},
   "outputs": [],
   "source": [
    "# execute_task = NewTask(name='spark-submit',\n",
    "#                          project='submit-proj',\n",
    "#                          params={'spark_options':\"\"},                          \n",
    "#                          handler=spark_submit)"
   ]
  },
  {
   "cell_type": "markdown",
   "metadata": {},
   "source": [
    "### Test on cluster"
   ]
  },
  {
   "cell_type": "markdown",
   "metadata": {},
   "source": [
    "Convert the code to an MLRun function"
   ]
  },
  {
   "cell_type": "code",
   "execution_count": 80,
   "metadata": {},
   "outputs": [
    {
     "name": "stdout",
     "output_type": "stream",
     "text": [
      "[mlrun] 2020-06-29 19:58:36,168 function spec saved to path: function.yaml\n"
     ]
    },
    {
     "data": {
      "text/plain": [
       "<mlrun.runtimes.kubejob.KubejobRuntime at 0x7fb9a9ec73c8>"
      ]
     },
     "execution_count": 80,
     "metadata": {},
     "output_type": "execute_result"
    }
   ],
   "source": [
    "fn = code_to_function('submit', handler='spark_submit')\n",
    "# fn.spec.image = docker_registry + \"/mlrunjob/padsquad_d\"\n",
    "fn.spec.service_account='mlrun-api'\n",
    "fn.spec.image = \"mlrun/mlrun\"\n",
    "fn.apply(mount_v3io())\n",
    "fn.export('function.yaml')"
   ]
  },
  {
   "cell_type": "code",
   "execution_count": 82,
   "metadata": {},
   "outputs": [
    {
     "name": "stdout",
     "output_type": "stream",
     "text": [
      "[mlrun] 2020-06-29 20:02:50,158 starting run spark-submit uid=bbda3487f86a4c32b06dba09c77bf473  -> http://mlrun-api:8080\n",
      "[mlrun] 2020-06-29 20:02:50,433 Job is running in the background, pod: spark-submit-nm5cj\n",
      "[mlrun] 2020-06-29 20:02:57,022 submiting :spark-submit /v3io/users/admin/sparkworkflows/pi-Copy1.py\n",
      "[mlrun] 2020-06-29 20:02:57,022 using in-cluster config.\n",
      "[mlrun] 2020-06-29 20:02:57,215 10.200.0.59\tdefault-tenant\tbill-shell-66c5fcb65-jdwzv\n",
      "[mlrun] 2020-06-29 20:03:07,023 Response: 20/06/29 20:02:58 WARN util.NativeCodeLoader: Unable to load native-hadoop library for your platform... using builtin-java classes where applicable\n",
      "20/06/29 20:03:00 INFO spark.SparkContext: Running Spark version 2.4.4\n",
      "20/06/29 20:03:00 INFO spark.SparkContext: Submitted application: PythonPi\n",
      "20/06/29 20:03:01 INFO spark.SecurityManager: Changing view acls to: iguazio\n",
      "20/06/29 20:03:01 INFO spark.SecurityManager: Changing modify acls to: iguazio\n",
      "20/06/29 20:03:01 INFO spark.SecurityManager: Changing view acls groups to: \n",
      "20/06/29 20:03:01 INFO spark.SecurityManager: Changing modify acls groups to: \n",
      "20/06/29 20:03:01 INFO spark.SecurityManager: SecurityManager: authentication disabled; ui acls disabled; users  with view permissions: Set(iguazio); groups with view permissions: Set(); users  with modify permissions: Set(iguazio); groups with modify permissions: Set()\n",
      "20/06/29 20:03:01 INFO util.Utils: Successfully started service 'sparkDriver' on port 37086.\n",
      "20/06/29 20:03:01 INFO spark.SparkEnv: Registering MapOutputTracker\n",
      "20/06/29 20:03:01 INFO spark.SparkEnv: Registering BlockManagerMaster\n",
      "20/06/29 20:03:01 INFO storage.BlockManagerMasterEndpoint: Using org.apache.spark.storage.DefaultTopologyMapper for getting topology information\n",
      "20/06/29 20:03:01 INFO storage.BlockManagerMasterEndpoint: BlockManagerMasterEndpoint up\n",
      "20/06/29 20:03:01 INFO storage.DiskBlockManager: Created local directory at /tmp/blockmgr-4270ad5b-023f-427c-af8e-b97f35d441a6\n",
      "20/06/29 20:03:01 INFO memory.MemoryStore: MemoryStore started with capacity 366.3 MB\n",
      "20/06/29 20:03:01 INFO spark.SparkEnv: Registering OutputCommitCoordinator\n",
      "20/06/29 20:03:01 INFO util.log: Logging initialized @3889ms\n",
      "20/06/29 20:03:01 INFO server.Server: jetty-9.3.z-SNAPSHOT, build timestamp: unknown, git hash: unknown\n",
      "20/06/29 20:03:01 INFO server.Server: Started @3955ms\n",
      "20/06/29 20:03:01 INFO server.AbstractConnector: Started ServerConnector@734af8fb{HTTP/1.1,[http/1.1]}{0.0.0.0:4040}\n",
      "20/06/29 20:03:01 INFO util.Utils: Successfully started service 'SparkUI' on port 4040.\n",
      "20/06/29 20:03:01 INFO handler.ContextHandler: Started o.s.j.s.ServletContextHandler@212dab0e{/jobs,null,AVAILABLE,@Spark}\n",
      "20/06/29 20:03:01 INFO handler.ContextHandler: Started o.s.j.s.ServletContextHandler@41495bf2{/jobs/json,null,AVAILABLE,@Spark}\n",
      "20/06/29 20:03:01 INFO handler.ContextHandler: Started o.s.j.s.ServletContextHandler@18f8dd94{/jobs/job,null,AVAILABLE,@Spark}\n",
      "20/06/29 20:03:01 INFO handler.ContextHandler: Started o.s.j.s.ServletContextHandler@27001858{/jobs/job/json,null,AVAILABLE,@Spark}\n",
      "20/06/29 20:03:01 INFO handler.ContextHandler: Started o.s.j.s.ServletContextHandler@2c1d4181{/stages,null,AVAILABLE,@Spark}\n",
      "20/06/29 20:03:01 INFO handler.ContextHandler: Started o.s.j.s.ServletContextHandler@72d73deb{/stages/json,null,AVAILABLE,@Spark}\n",
      "20/06/29 20:03:01 INFO handler.ContextHandler: Started o.s.j.s.ServletContextHandler@286fb34b{/stages/stage,null,AVAILABLE,@Spark}\n",
      "20/06/29 20:03:01 INFO handler.ContextHandler: Started o.s.j.s.ServletContextHandler@22ea14a{/stages/stage/json,null,AVAILABLE,@Spark}\n",
      "20/06/29 20:03:01 INFO handler.ContextHandler: Started o.s.j.s.ServletContextHandler@578eafaf{/stages/pool,null,AVAILABLE,@Spark}\n",
      "20/06/29 20:03:01 INFO handler.ContextHandler: Started o.s.j.s.ServletContextHandler@d38c504{/stages/pool/json,null,AVAILABLE,@Spark}\n",
      "20/06/29 20:03:01 INFO handler.ContextHandler: Started o.s.j.s.ServletContextHandler@2becab51{/storage,null,AVAILABLE,@Spark}\n",
      "20/06/29 20:03:01 INFO handler.ContextHandler: Started o.s.j.s.ServletContextHandler@5c3f7b97{/storage/json,null,AVAILABLE,@Spark}\n",
      "20/06/29 20:03:01 INFO handler.ContextHandler: Started o.s.j.s.ServletContextHandler@7e6e4468{/storage/rdd,null,AVAILABLE,@Spark}\n",
      "20/06/29 20:03:01 INFO handler.ContextHandler: Started o.s.j.s.ServletContextHandler@3535be44{/storage/rdd/json,null,AVAILABLE,@Spark}\n",
      "20/06/29 20:03:01 INFO handler.ContextHandler: Started o.s.j.s.ServletContextHandler@7bcd2d90{/environment,null,AVAILABLE,@Spark}\n",
      "20/06/29 20:03:01 INFO handler.ContextHandler: Started o.s.j.s.ServletContextHandler@5c0902bd{/environment/json,null,AVAILABLE,@Spark}\n",
      "20/06/29 20:03:01 INFO handler.ContextHandler: Started o.s.j.s.ServletContextHandler@50484050{/executors,null,AVAILABLE,@Spark}\n",
      "20/06/29 20:03:01 INFO handler.ContextHandler: Started o.s.j.s.ServletContextHandler@48171383{/executors/json,null,AVAILABLE,@Spark}\n",
      "20/06/29 20:03:01 INFO handler.ContextHandler: Started o.s.j.s.ServletContextHandler@5aa406bc{/executors/threadDump,null,AVAILABLE,@Spark}\n",
      "20/06/29 20:03:01 INFO handler.ContextHandler: Started o.s.j.s.ServletContextHandler@4eacebbf{/executors/threadDump/json,null,AVAILABLE,@Spark}\n",
      "20/06/29 20:03:01 INFO handler.ContextHandler: Started o.s.j.s.ServletContextHandler@5cf478fa{/static,null,AVAILABLE,@Spark}\n",
      "20/06/29 20:03:01 INFO handler.ContextHandler: Started o.s.j.s.ServletContextHandler@1b663ea0{/,null,AVAILABLE,@Spark}\n",
      "20/06/29 20:03:01 INFO handler.ContextHandler: Started o.s.j.s.ServletContextHandler@4f13bf93{/api,null,AVAILABLE,@Spark}\n",
      "20/06/29 20:03:01 INFO handler.ContextHandler: Started o.s.j.s.ServletContextHandler@42f5f4be{/jobs/job/kill,null,AVAILABLE,@Spark}\n",
      "20/06/29 20:03:01 INFO handler.ContextHandler: Started o.s.j.s.ServletContextHandler@744f362{/stages/stage/kill,null,AVAILABLE,@Spark}\n",
      "20/06/29 20:03:01 INFO ui.SparkUI: Bound SparkUI to 0.0.0.0, and started at http://10.200.0.59:4040\n",
      "20/06/29 20:03:01 INFO spark.SparkContext: Added JAR file:///spark/v3io-libs/v3io-hcfs_2.11.jar at spark://10.200.0.59:37086/jars/v3io-hcfs_2.11.jar with timestamp 1593460981554\n",
      "20/06/29 20:03:01 INFO spark.SparkContext: Added JAR file:///spark/v3io-libs/v3io-spark2-object-dataframe_2.11.jar at spark://10.200.0.59:37086/jars/v3io-spark2-object-dataframe_2.11.jar with timestamp 1593460981554\n",
      "20/06/29 20:03:01 INFO spark.SparkContext: Added JAR file:///spark/v3io-libs/v3io-spark2-streaming_2.11.jar at spark://10.200.0.59:37086/jars/v3io-spark2-streaming_2.11.jar with timestamp 1593460981555\n",
      "20/06/29 20:03:01 INFO spark.SparkContext: Added file file:///igz/java/libs/v3io-py.zip at spark://10.200.0.59:37086/files/v3io-py.zip with timestamp 1593460981571\n",
      "20/06/29 20:03:01 INFO util.Utils: Copying /igz/java/libs/v3io-py.zip to /tmp/spark-1ce2a3f2-6a8c-4531-845d-15bf6e0fee80/userFiles-a600337b-7f7b-4369-8fa0-e89197495e71/v3io-py.zip\n",
      "20/06/29 20:03:01 INFO client.StandaloneAppClient$ClientEndpoint: Connecting to master spark://spark-master:7077...\n",
      "20/06/29 20:03:01 INFO client.TransportClientFactory: Successfully created connection to spark-master/10.194.35.51:7077 after 27 ms (0 ms spent in bootstraps)\n",
      "20/06/29 20:03:01 INFO cluster.StandaloneSchedulerBackend: Connected to Spark cluster with app ID app-20200629200301-0008\n",
      "20/06/29 20:03:01 INFO client.StandaloneAppClient$ClientEndpoint: Executor added: app-20200629200301-0008/0 on worker-20200610125542-10.200.0.52-37305 (10.200.0.52:37305) with 1 core(s)\n",
      "20/06/29 20:03:01 INFO util.Utils: Successfully started service 'org.apache.spark.network.netty.NettyBlockTransferService' on port 33267.\n",
      "20/06/29 20:03:01 INFO netty.NettyBlockTransferService: Server created on 10.200.0.59:33267\n",
      "20/06/29 20:03:01 INFO cluster.StandaloneSchedulerBackend: Granted executor ID app-20200629200301-0008/0 on hostPort 10.200.0.52:37305 with 1 core(s), 2.0 GB RAM\n",
      "20/06/29 20:03:01 INFO client.StandaloneAppClient$ClientEndpoint: Executor added: app-20200629200301-0008/1 on worker-20200610125542-10.200.0.52-37305 (10.200.0.52:37305) with 1 core(s)\n",
      "20/06/29 20:03:01 INFO cluster.StandaloneSchedulerBackend: Granted executor ID app-20200629200301-0008/1 on hostPort 10.200.0.52:37305 with 1 core(s), 2.0 GB RAM\n",
      "20/06/29 20:03:01 INFO client.StandaloneAppClient$ClientEndpoint: Executor added: app-20200629200301-0008/2 on worker-20200610125542-10.200.0.52-37305 (10.200.0.52:37305) with 1 core(s)\n",
      "20/06/29 20:03:01 INFO cluster.StandaloneSchedulerBackend: Granted executor ID app-20200629200301-0008/2 on hostPort 10.200.0.52:37305 with 1 core(s), 2.0 GB RAM\n",
      "20/06/29 20:03:01 INFO client.StandaloneAppClient$ClientEndpoint: Executor added: app-20200629200301-0008/3 on worker-20200610125542-10.200.0.52-37305 (10.200.0.52:37305) with 1 core(s)\n",
      "20/06/29 20:03:01 INFO storage.BlockManager: Using org.apache.spark.storage.RandomBlockReplicationPolicy for block replication policy\n",
      "20/06/29 20:03:01 INFO cluster.StandaloneSchedulerBackend: Granted executor ID app-20200629200301-0008/3 on hostPort 10.200.0.52:37305 with 1 core(s), 2.0 GB RAM\n",
      "20/06/29 20:03:01 INFO client.StandaloneAppClient$ClientEndpoint: Executor updated: app-20200629200301-0008/0 is now RUNNING\n",
      "20/06/29 20:03:01 INFO client.StandaloneAppClient$ClientEndpoint: Executor updated: app-20200629200301-0008/1 is now RUNNING\n",
      "20/06/29 20:03:01 INFO client.StandaloneAppClient$ClientEndpoint: Executor updated: app-20200629200301-0008/2 is now RUNNING\n",
      "20/06/29 20:03:01 INFO client.StandaloneAppClient$ClientEndpoint: Executor updated: app-20200629200301-0008/3 is now RUNNING\n",
      "20/06/29 20:03:01 INFO storage.BlockManagerMaster: Registering BlockManager BlockManagerId(driver, 10.200.0.59, 33267, None)\n",
      "20/06/29 20:03:01 INFO storage.BlockManagerMasterEndpoint: Registering block manager 10.200.0.59:33267 with 366.3 MB RAM, BlockManagerId(driver, 10.200.0.59, 33267, None)\n",
      "20/06/29 20:03:01 INFO storage.BlockManagerMaster: Registered BlockManager BlockManagerId(driver, 10.200.0.59, 33267, None)\n",
      "20/06/29 20:03:01 INFO storage.BlockManager: Initialized BlockManager: BlockManagerId(driver, 10.200.0.59, 33267, None)\n",
      "20/06/29 20:03:02 INFO handler.ContextHandler: Started o.s.j.s.ServletContextHandler@ca6620f{/metrics/json,null,AVAILABLE,@Spark}\n",
      "20/06/29 20:03:02 INFO cluster.StandaloneSchedulerBackend: SchedulerBackend is ready for scheduling beginning after reached minRegisteredResourcesRatio: 0.0\n",
      "20/06/29 20:03:02 INFO internal.SharedState: Setting hive.metastore.warehouse.dir ('null') to the value of spark.sql.warehouse.dir ('file:/User/spark-warehouse').\n",
      "20/06/29 20:03:02 INFO internal.SharedState: Warehouse path is 'file:/User/spark-warehouse'.\n",
      "20/06/29 20:03:02 INFO handler.ContextHandler: Started o.s.j.s.ServletContextHandler@18be82cc{/SQL,null,AVAILABLE,@Spark}\n",
      "20/06/29 20:03:02 INFO handler.ContextHandler: Started o.s.j.s.ServletContextHandler@3b206ee4{/SQL/json,null,AVAILABLE,@Spark}\n",
      "20/06/29 20:03:02 INFO handler.ContextHandler: Started o.s.j.s.ServletContextHandler@261b1577{/SQL/execution,null,AVAILABLE,@Spark}\n",
      "20/06/29 20:03:02 INFO handler.ContextHandler: Started o.s.j.s.ServletContextHandler@7938c416{/SQL/execution/json,null,AVAILABLE,@Spark}\n",
      "20/06/29 20:03:02 INFO handler.ContextHandler: Started o.s.j.s.ServletContextHandler@62511ff5{/static/sql,null,AVAILABLE,@Spark}\n",
      "20/06/29 20:03:03 INFO state.StateStoreCoordinatorRef: Registered StateStoreCoordinator endpoint\n",
      "20/06/29 20:03:03 INFO spark.SparkContext: Starting job: reduce at /v3io/users/admin/sparkworkflows/pi-Copy1.py:43\n",
      "20/06/29 20:03:03 INFO scheduler.DAGScheduler: Got job 0 (reduce at /v3io/users/admin/sparkworkflows/pi-Copy1.py:43) with 2 output partitions\n",
      "20/06/29 20:03:03 INFO scheduler.DAGScheduler: Final stage: ResultStage 0 (reduce at /v3io/users/admin/sparkworkflows/pi-Copy1.py:43)\n",
      "20/06/29 20:03:03 INFO scheduler.DAGScheduler: Parents of final stage: List()\n",
      "20/06/29 20:03:03 INFO scheduler.DAGScheduler: Missing parents: List()\n",
      "20/06/29 20:03:03 INFO scheduler.DAGScheduler: Submitting ResultStage 0 (PythonRDD[1] at reduce at /v3io/users/admin/sparkworkflows/pi-Copy1.py:43), which has no missing parents\n",
      "20/06/29 20:03:03 INFO memory.MemoryStore: Block broadcast_0 stored as values in memory (estimated size 6.2 KB, free 366.3 MB)\n",
      "20/06/29 20:03:03 INFO memory.MemoryStore: Block broadcast_0_piece0 stored as bytes in memory (estimated size 4.3 KB, free 366.3 MB)\n",
      "20/06/29 20:03:03 INFO storage.BlockManagerInfo: Added broadcast_0_piece0 in memory on 10.200.0.59:33267 (size: 4.3 KB, free: 366.3 MB)\n",
      "20/06/29 20:03:03 INFO spark.SparkContext: Created broadcast 0 from broadcast at DAGScheduler.scala:1161\n",
      "20/06/29 20:03:03 INFO scheduler.DAGScheduler: Submitting 2 missing tasks from ResultStage 0 (PythonRDD[1] at reduce at /v3io/users/admin/sparkworkflows/pi-Copy1.py:43) (first 15 tasks are for partitions Vector(0, 1))\n",
      "20/06/29 20:03:03 INFO scheduler.TaskSchedulerImpl: Adding task set 0.0 with 2 tasks\n",
      "20/06/29 20:03:04 INFO cluster.CoarseGrainedSchedulerBackend$DriverEndpoint: Registered executor NettyRpcEndpointRef(spark-client://Executor) (10.200.0.52:38982) with ID 0\n",
      "20/06/29 20:03:04 INFO scheduler.TaskSetManager: Starting task 0.0 in stage 0.0 (TID 0, 10.200.0.52, executor 0, partition 0, PROCESS_LOCAL, 7856 bytes)\n",
      "20/06/29 20:03:04 INFO cluster.CoarseGrainedSchedulerBackend$DriverEndpoint: Registered executor NettyRpcEndpointRef(spark-client://Executor) (10.200.0.52:38984) with ID 2\n",
      "20/06/29 20:03:04 INFO scheduler.TaskSetManager: Starting task 1.0 in stage 0.0 (TID 1, 10.200.0.52, executor 2, partition 1, PROCESS_LOCAL, 7856 bytes)\n",
      "20/06/29 20:03:04 INFO storage.BlockManagerMasterEndpoint: Registering block manager 10.200.0.52:34155 with 912.3 MB RAM, BlockManagerId(0, 10.200.0.52, 34155, None)\n",
      "20/06/29 20:03:04 INFO storage.BlockManagerMasterEndpoint: Registering block manager 10.200.0.52:32791 with 912.3 MB RAM, BlockManagerId(2, 10.200.0.52, 32791, None)\n",
      "20/06/29 20:03:04 INFO cluster.CoarseGrainedSchedulerBackend$DriverEndpoint: Registered executor NettyRpcEndpointRef(spark-client://Executor) (10.200.0.52:39288) with ID 1\n",
      "20/06/29 20:03:04 INFO cluster.CoarseGrainedSchedulerBackend$DriverEndpoint: Registered executor NettyRpcEndpointRef(spark-client://Executor) (10.200.0.52:39298) with ID 3\n",
      "20/06/29 20:03:04 INFO storage.BlockManagerMasterEndpoint: Registering block manager 10.200.0.52:32997 with 912.3 MB RAM, BlockManagerId(1, 10.200.0.52, 32997, None)\n",
      "20/06/29 20:03:04 INFO storage.BlockManagerMasterEndpoint: Registering block manager 10.200.0.52:36735 with 912.3 MB RAM, BlockManagerId(3, 10.200.0.52, 36735, None)\n",
      "20/06/29 20:03:04 INFO storage.BlockManagerInfo: Added broadcast_0_piece0 in memory on 10.200.0.52:32791 (size: 4.3 KB, free: 912.3 MB)\n",
      "20/06/29 20:03:04 INFO storage.BlockManagerInfo: Added broadcast_0_piece0 in memory on 10.200.0.52:34155 (size: 4.3 KB, free: 912.3 MB)\n",
      "20/06/29 20:03:05 INFO scheduler.TaskSetManager: Finished task 1.0 in stage 0.0 (TID 1) in 1600 ms on 10.200.0.52 (executor 2) (1/2)\n",
      "20/06/29 20:03:05 INFO python.PythonAccumulatorV2: Connected to AccumulatorServer at host: 127.0.0.1 port: 37685\n",
      "20/06/29 20:03:05 INFO scheduler.TaskSetManager: Finished task 0.0 in stage 0.0 (TID 0) in 1639 ms on 10.200.0.52 (executor 0) (2/2)\n",
      "20/06/29 20:03:05 INFO scheduler.TaskSchedulerImpl: Removed TaskSet 0.0, whose tasks have all completed, from pool \n",
      "20/06/29 20:03:05 INFO scheduler.DAGScheduler: ResultStage 0 (reduce at /v3io/users/admin/sparkworkflows/pi-Copy1.py:43) finished in 2.161 s\n",
      "20/06/29 20:03:05 INFO scheduler.DAGScheduler: Job 0 finished: reduce at /v3io/users/admin/sparkworkflows/pi-Copy1.py:43, took 2.213332 s\n",
      "++================++\n",
      "Pi is roughly 3.141140\n",
      "++================++\n",
      "20/06/29 20:03:05 INFO server.AbstractConnector: Stopped Spark@734af8fb{HTTP/1.1,[http/1.1]}{0.0.0.0:4040}\n",
      "20/06/29 20:03:05 INFO ui.SparkUI: Stopped Spark web UI at http://10.200.0.59:4040\n",
      "20/06/29 20:03:05 INFO cluster.StandaloneSchedulerBackend: Shutting down all executors\n",
      "20/06/29 20:03:05 INFO cluster.CoarseGrainedSchedulerBackend$DriverEndpoint: Asking each executor to shut down\n",
      "20/06/29 20:03:05 INFO spark.MapOutputTrackerMasterEndpoint: MapOutputTrackerMasterEndpoint stopped!\n",
      "20/06/29 20:03:05 INFO memory.MemoryStore: MemoryStore cleared\n",
      "20/06/29 20:03:05 INFO storage.BlockManager: BlockManager stopped\n",
      "20/06/29 20:03:05 INFO storage.BlockManagerMaster: BlockManagerMaster stopped\n",
      "20/06/29 20:03:05 INFO scheduler.OutputCommitCoordinator$OutputCommitCoordinatorEndpoint: OutputCommitCoordinator stopped!\n",
      "20/06/29 20:03:05 INFO spark.SparkContext: Successfully stopped SparkContext\n",
      "20/06/29 20:03:06 INFO util.ShutdownHookManager: Shutdown hook called\n",
      "20/06/29 20:03:06 INFO util.ShutdownHookManager: Deleting directory /tmp/spark-1ce2a3f2-6a8c-4531-845d-15bf6e0fee80/pyspark-cd7d430b-6cf1-4eaa-8d18-65efab41ae61\n",
      "20/06/29 20:03:06 INFO util.ShutdownHookManager: Deleting directory /tmp/spark-1ce2a3f2-6a8c-4531-845d-15bf6e0fee80\n",
      "20/06/29 20:03:06 INFO util.ShutdownHookManager: Deleting directory /tmp/spark-a231ab38-2728-4f08-8b8f-77d080c36dcc\n",
      "\n",
      "\n",
      "[mlrun] 2020-06-29 20:03:07,060 run executed, status=completed\n",
      "final state: succeeded\n"
     ]
    },
    {
     "data": {
      "text/html": [
       "<style> \n",
       ".dictlist {\n",
       "  background-color: #b3edff; \n",
       "  text-align: center; \n",
       "  margin: 4px; \n",
       "  border-radius: 3px; padding: 0px 3px 1px 3px; display: inline-block;}\n",
       ".artifact {\n",
       "  cursor: pointer; \n",
       "  background-color: #ffe6cc; \n",
       "  text-align: left; \n",
       "  margin: 4px; border-radius: 3px; padding: 0px 3px 1px 3px; display: inline-block;\n",
       "}\n",
       "div.block.hidden {\n",
       "  display: none;\n",
       "}\n",
       ".clickable {\n",
       "  cursor: pointer;\n",
       "}\n",
       ".ellipsis {\n",
       "  display: inline-block;\n",
       "  max-width: 60px;\n",
       "  white-space: nowrap;\n",
       "  overflow: hidden;\n",
       "  text-overflow: ellipsis;\n",
       "}\n",
       ".master-wrapper {\n",
       "  display: flex;\n",
       "  flex-flow: row nowrap;\n",
       "  justify-content: flex-start;\n",
       "  align-items: stretch;\n",
       "}\n",
       ".master-tbl {\n",
       "  flex: 3\n",
       "}\n",
       ".master-wrapper > div {\n",
       "  margin: 4px;\n",
       "  padding: 10px;\n",
       "}\n",
       "iframe.fileview {\n",
       "  border: 0 none;\n",
       "  height: 100%;\n",
       "  width: 100%;\n",
       "  white-space: pre-wrap;\n",
       "}\n",
       ".pane-header-title {\n",
       "  width: 80%;\n",
       "  font-weight: 500;\n",
       "}\n",
       ".pane-header {\n",
       "  line-height: 1;\n",
       "  background-color: #ffe6cc;\n",
       "  padding: 3px;\n",
       "}\n",
       ".pane-header .close {\n",
       "  font-size: 20px;\n",
       "  font-weight: 700;\n",
       "  float: right;\n",
       "  margin-top: -5px;\n",
       "}\n",
       ".master-wrapper .right-pane {\n",
       "  border: 1px inset silver;\n",
       "  width: 40%;\n",
       "  min-height: 300px;\n",
       "  flex: 3\n",
       "  min-width: 500px;\n",
       "}\n",
       ".master-wrapper * {\n",
       "  box-sizing: border-box;\n",
       "}\n",
       "</style><script>\n",
       "function copyToClipboard(fld) {\n",
       "    if (document.queryCommandSupported && document.queryCommandSupported('copy')) {\n",
       "        var textarea = document.createElement('textarea');\n",
       "        textarea.textContent = fld.innerHTML;\n",
       "        textarea.style.position = 'fixed';\n",
       "        document.body.appendChild(textarea);\n",
       "        textarea.select();\n",
       "\n",
       "        try {\n",
       "            return document.execCommand('copy'); // Security exception may be thrown by some browsers.\n",
       "        } catch (ex) {\n",
       "\n",
       "        } finally {\n",
       "            document.body.removeChild(textarea);\n",
       "        }\n",
       "    }\n",
       "}\n",
       "function expandPanel(el) {\n",
       "  const panelName = \"#\" + el.getAttribute('paneName');\n",
       "  console.log(el.title);\n",
       "\n",
       "  document.querySelector(panelName + \"-title\").innerHTML = el.title\n",
       "  iframe = document.querySelector(panelName + \"-body\");\n",
       "  \n",
       "  const tblcss = `<style> body { font-family: Arial, Helvetica, sans-serif;}\n",
       "    #csv { margin-bottom: 15px; }\n",
       "    #csv table { border-collapse: collapse;}\n",
       "    #csv table td { padding: 4px 8px; border: 1px solid silver;} </style>`;\n",
       "\n",
       "  function csvToHtmlTable(str) {\n",
       "    return '<div id=\"csv\"><table><tr><td>' +  str.replace(/[\\n\\r]+$/g, '').replace(/[\\n\\r]+/g, '</td></tr><tr><td>')\n",
       "      .replace(/,/g, '</td><td>') + '</td></tr></table></div>';\n",
       "  }\n",
       "  \n",
       "  function reqListener () {\n",
       "    if (el.title.endsWith(\".csv\")) {\n",
       "      iframe.setAttribute(\"srcdoc\", tblcss + csvToHtmlTable(this.responseText));\n",
       "    } else {\n",
       "      iframe.setAttribute(\"srcdoc\", this.responseText);\n",
       "    }  \n",
       "    console.log(this.responseText);\n",
       "  }\n",
       "\n",
       "  const oReq = new XMLHttpRequest();\n",
       "  oReq.addEventListener(\"load\", reqListener);\n",
       "  oReq.open(\"GET\", el.title);\n",
       "  oReq.send();\n",
       "  \n",
       "  \n",
       "  //iframe.src = el.title;\n",
       "  const resultPane = document.querySelector(panelName + \"-pane\");\n",
       "  if (resultPane.classList.contains(\"hidden\")) {\n",
       "    resultPane.classList.remove(\"hidden\");\n",
       "  }\n",
       "}\n",
       "function closePanel(el) {\n",
       "  const panelName = \"#\" + el.getAttribute('paneName')\n",
       "  const resultPane = document.querySelector(panelName + \"-pane\");\n",
       "  if (!resultPane.classList.contains(\"hidden\")) {\n",
       "    resultPane.classList.add(\"hidden\");\n",
       "  }\n",
       "}\n",
       "\n",
       "</script>\n",
       "<div class=\"master-wrapper\">\n",
       "  <div class=\"block master-tbl\"><div>\n",
       "<style scoped>\n",
       "    .dataframe tbody tr th:only-of-type {\n",
       "        vertical-align: middle;\n",
       "    }\n",
       "\n",
       "    .dataframe tbody tr th {\n",
       "        vertical-align: top;\n",
       "    }\n",
       "\n",
       "    .dataframe thead th {\n",
       "        text-align: right;\n",
       "    }\n",
       "</style>\n",
       "<table border=\"1\" class=\"dataframe\">\n",
       "  <thead>\n",
       "    <tr style=\"text-align: right;\">\n",
       "      <th>project</th>\n",
       "      <th>uid</th>\n",
       "      <th>iter</th>\n",
       "      <th>start</th>\n",
       "      <th>state</th>\n",
       "      <th>name</th>\n",
       "      <th>labels</th>\n",
       "      <th>inputs</th>\n",
       "      <th>parameters</th>\n",
       "      <th>results</th>\n",
       "      <th>artifacts</th>\n",
       "    </tr>\n",
       "  </thead>\n",
       "  <tbody>\n",
       "    <tr>\n",
       "      <td>submit-proj</td>\n",
       "      <td><div title=\"bbda3487f86a4c32b06dba09c77bf473\"><a href=\"https://mlrun-ui.default-tenant.app.mdl0521.iguazio-cd0.com/projects/submit-proj/jobs/bbda3487f86a4c32b06dba09c77bf473/info\" target=\"_blank\" >...c77bf473</a></div></td>\n",
       "      <td>0</td>\n",
       "      <td>Jun 29 20:02:56</td>\n",
       "      <td>completed</td>\n",
       "      <td>spark-submit</td>\n",
       "      <td><div class=\"dictlist\">v3io_user=admin</div><div class=\"dictlist\">kind=job</div><div class=\"dictlist\">owner=admin</div><div class=\"dictlist\">host=spark-submit-nm5cj</div></td>\n",
       "      <td></td>\n",
       "      <td><div class=\"dictlist\">spark_options=/v3io/users/admin/sparkworkflows/pi-Copy1.py</div></td>\n",
       "      <td></td>\n",
       "      <td></td>\n",
       "    </tr>\n",
       "  </tbody>\n",
       "</table>\n",
       "</div></div>\n",
       "  <div id=\"result360151ed-pane\" class=\"right-pane block hidden\">\n",
       "    <div class=\"pane-header\">\n",
       "      <span id=\"result360151ed-title\" class=\"pane-header-title\">Title</span>\n",
       "      <span onclick=\"closePanel(this)\" paneName=\"result360151ed\" class=\"close clickable\">&times;</span>\n",
       "    </div>\n",
       "    <iframe class=\"fileview\" id=\"result360151ed-body\"></iframe>\n",
       "  </div>\n",
       "</div>\n"
      ],
      "text/plain": [
       "<IPython.core.display.HTML object>"
      ]
     },
     "metadata": {},
     "output_type": "display_data"
    },
    {
     "name": "stdout",
     "output_type": "stream",
     "text": [
      "to track results use .show() or .logs() or in CLI: \n",
      "!mlrun get run bbda3487f86a4c32b06dba09c77bf473 --project submit-proj , !mlrun logs bbda3487f86a4c32b06dba09c77bf473 --project submit-proj\n",
      "[mlrun] 2020-06-29 20:03:09,679 run executed, status=completed\n"
     ]
    }
   ],
   "source": [
    "execute_run = fn.run(execute_task)"
   ]
  },
  {
   "cell_type": "markdown",
   "metadata": {},
   "source": [
    "### Show results"
   ]
  },
  {
   "cell_type": "code",
   "execution_count": null,
   "metadata": {},
   "outputs": [],
   "source": []
  },
  {
   "cell_type": "code",
   "execution_count": null,
   "metadata": {},
   "outputs": [],
   "source": []
  },
  {
   "cell_type": "code",
   "execution_count": null,
   "metadata": {},
   "outputs": [],
   "source": []
  }
 ],
 "metadata": {
  "kernelspec": {
   "display_name": "Python 3",
   "language": "python",
   "name": "python3"
  },
  "language_info": {
   "codemirror_mode": {
    "name": "ipython",
    "version": 3
   },
   "file_extension": ".py",
   "mimetype": "text/x-python",
   "name": "python",
   "nbconvert_exporter": "python",
   "pygments_lexer": "ipython3",
   "version": "3.6.8"
  }
 },
 "nbformat": 4,
 "nbformat_minor": 4
}
